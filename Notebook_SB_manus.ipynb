{
 "cells": [
  {
   "cell_type": "code",
   "execution_count": 1,
   "metadata": {},
   "outputs": [],
   "source": [
    "import pandas as pd\n",
    "import numpy as np\n",
    "from manus_sampler_brothers.sampler import TimeSampler"
   ]
  },
  {
   "cell_type": "code",
   "execution_count": 24,
   "metadata": {},
   "outputs": [],
   "source": [
    "# Generar datos de ejemplo\n",
    "num_series = 35000\n",
    "num_timesteps = 365*5\n",
    "num_clusters = 300\n"
   ]
  },
  {
   "cell_type": "code",
   "execution_count": 25,
   "metadata": {},
   "outputs": [],
   "source": [
    "# series_data\n",
    "series_data = pd.DataFrame(np.random.rand(num_timesteps, num_series) * 100, columns=[f'series_{i}' for i in range(num_series)])\n",
    "\n",
    "# cluster_labels\n",
    "cluster_labels_data = {'series_id': [f'series_{i}' for i in range(num_series)],\n",
    "                       'cluster_id': np.random.randint(0, num_clusters, num_series)}\n",
    "cluster_labels = pd.DataFrame(cluster_labels_data)\n",
    "\n",
    "# features (embeddings GASF simulados)\n",
    "features = np.random.rand(num_series, 128) # 128 es un tamaño de embedding arbitrario"
   ]
  },
  {
   "cell_type": "code",
   "execution_count": 26,
   "metadata": {},
   "outputs": [
    {
     "name": "stdout",
     "output_type": "stream",
     "text": [
      "Datos de ejemplo generados:\n",
      "series_data shape: (1825, 35000)\n",
      "cluster_labels shape: (35000, 2)\n",
      "features shape: (35000, 128)\n"
     ]
    }
   ],
   "source": [
    "print(\"Datos de ejemplo generados:\")\n",
    "print(f\"series_data shape: {series_data.shape}\")\n",
    "print(f\"cluster_labels shape: {cluster_labels.shape}\")\n",
    "print(f\"features shape: {features.shape}\")"
   ]
  },
  {
   "cell_type": "code",
   "execution_count": 27,
   "metadata": {},
   "outputs": [
    {
     "name": "stdout",
     "output_type": "stream",
     "text": [
      "\n",
      "TimeSampler inicializado exitosamente.\n"
     ]
    }
   ],
   "source": [
    "# 1. Inicializar el sampler\n",
    "sampler = TimeSampler(\n",
    "    series_data=series_data,\n",
    "    cluster_labels=cluster_labels,\n",
    "    features=features\n",
    ")\n",
    "print(\"\\nTimeSampler inicializado exitosamente.\")"
   ]
  },
  {
   "cell_type": "code",
   "execution_count": 28,
   "metadata": {},
   "outputs": [
    {
     "name": "stdout",
     "output_type": "stream",
     "text": [
      "\n",
      "Muestra con estrategia A: 10 series\n",
      "['series_32531', 'series_14184', 'series_7149', 'series_24717', 'series_21380', 'series_6591', 'series_25586', 'series_30398', 'series_25297', 'series_4884']\n"
     ]
    }
   ],
   "source": [
    "# 2. Aplicar una estrategia de muestreo\n",
    "# Estrategia A para obtener 10 muestras\n",
    "sample_a = sampler.sample(strategy='A', n_samples=10)\n",
    "print(f\"\\nMuestra con estrategia A: {len(sample_a)} series\")\n",
    "print(sample_a)"
   ]
  },
  {
   "cell_type": "code",
   "execution_count": 29,
   "metadata": {},
   "outputs": [
    {
     "name": "stdout",
     "output_type": "stream",
     "text": [
      "\n",
      "Muestra con estrategia K: 20 series\n",
      "['series_3502', 'series_17978', 'series_33103', 'series_23126', 'series_19531', 'series_33152', 'series_392', 'series_23045', 'series_28336', 'series_24461', 'series_12010', 'series_14260', 'series_24656', 'series_13817', 'series_426', 'series_33521', 'series_5874', 'series_22672', 'series_18765', 'series_15461']\n"
     ]
    }
   ],
   "source": [
    "# Estrategia K para obtener 20 muestras\n",
    "sample_k = sampler.sample(strategy='K', n_samples=20)\n",
    "print(f\"\\nMuestra con estrategia K: {len(sample_k)} series\")\n",
    "print(sample_k)\n"
   ]
  },
  {
   "cell_type": "code",
   "execution_count": 30,
   "metadata": {},
   "outputs": [
    {
     "name": "stdout",
     "output_type": "stream",
     "text": [
      "\n",
      "Muestra con estrategia L: 20 series\n",
      "['series_305', 'series_6515', 'series_20509', 'series_10312', 'series_16300', 'series_24545', 'series_24596', 'series_12987', 'series_32339', 'series_31619', 'series_31765', 'series_13218', 'series_6115', 'series_10259', 'series_3614', 'series_15709', 'series_12391', 'series_26320', 'series_7112', 'series_33836']\n"
     ]
    }
   ],
   "source": [
    "# Estrategia L para obtener 20 muestras\n",
    "sample_l = sampler.sample(strategy='L', n_samples=20)\n",
    "print(f\"\\nMuestra con estrategia L: {len(sample_l)} series\")\n",
    "print(sample_l)"
   ]
  },
  {
   "cell_type": "code",
   "execution_count": 31,
   "metadata": {},
   "outputs": [
    {
     "name": "stdout",
     "output_type": "stream",
     "text": [
      "\n",
      "Muestra con estrategia O: 20 series\n",
      "['series_27969', 'series_9686', 'series_26942', 'series_13571', 'series_30054', 'series_8218', 'series_3458', 'series_32495', 'series_33810', 'series_659', 'series_10068', 'series_7802', 'series_6423', 'series_15959', 'series_25719', 'series_18536', 'series_28235', 'series_25367', 'series_30564', 'series_34850']\n"
     ]
    }
   ],
   "source": [
    "# Estrategia O para obtener 20 muestras\n",
    "sample_o = sampler.sample(strategy='O', n_samples=20)\n",
    "print(f\"\\nMuestra con estrategia O: {len(sample_o)} series\")\n",
    "print(sample_o)\n"
   ]
  },
  {
   "cell_type": "code",
   "execution_count": 32,
   "metadata": {},
   "outputs": [
    {
     "name": "stdout",
     "output_type": "stream",
     "text": [
      "\n",
      "Muestra con estrategia P: 20 series\n",
      "['series_10715', 'series_2346', 'series_10782', 'series_6830', 'series_16356', 'series_9083', 'series_14956', 'series_27538', 'series_28940', 'series_25089', 'series_13737', 'series_9682', 'series_6642', 'series_9575', 'series_33366', 'series_19531', 'series_4223', 'series_17412', 'series_23306', 'series_12708']\n"
     ]
    }
   ],
   "source": [
    "# Estrategia P para obtener 20 muestras\n",
    "sample_p = sampler.sample(strategy='P', n_samples=20)\n",
    "print(f\"\\nMuestra con estrategia P: {len(sample_p)} series\")\n",
    "print(sample_p)"
   ]
  },
  {
   "cell_type": "code",
   "execution_count": 33,
   "metadata": {},
   "outputs": [
    {
     "name": "stdout",
     "output_type": "stream",
     "text": [
      "\n",
      "Muestra con estrategia R: 20 series\n",
      "['series_27432', 'series_7210', 'series_25719', 'series_2271', 'series_11724', 'series_29341', 'series_17286', 'series_7167', 'series_27224', 'series_24918', 'series_13537', 'series_20713', 'series_3417', 'series_4012', 'series_14332', 'series_12814', 'series_33186', 'series_31127', 'series_6667', 'series_15167']\n"
     ]
    }
   ],
   "source": [
    "# Estrategia R para obtener 20 muestras\n",
    "sample_r = sampler.sample(strategy='R', n_samples=20)\n",
    "print(f\"\\nMuestra con estrategia R: {len(sample_r)} series\")\n",
    "print(sample_r)"
   ]
  },
  {
   "cell_type": "code",
   "execution_count": 34,
   "metadata": {},
   "outputs": [
    {
     "name": "stdout",
     "output_type": "stream",
     "text": [
      "\n",
      "Muestra con estrategia M: 20 series\n",
      "['series_19098', 'series_14945', 'series_14731', 'series_18591', 'series_7528', 'series_15095', 'series_21093', 'series_19871', 'series_19710', 'series_33798', 'series_3362', 'series_18260', 'series_26021', 'series_15684', 'series_17375', 'series_5418', 'series_5006', 'series_14983', 'series_3188', 'series_22092']\n",
      "\n",
      "Muestra con estrategia Q: 20 series\n",
      "['series_7512', 'series_21148', 'series_7488', 'series_25266', 'series_27410', 'series_8078', 'series_34152', 'series_13094', 'series_23481', 'series_29274', 'series_32759', 'series_21567', 'series_7128', 'series_15461', 'series_23111', 'series_17603', 'series_30392', 'series_8020', 'series_28148', 'series_24499']\n"
     ]
    }
   ],
   "source": [
    "# Estrategia M y Q (requerirían un modelo proxy real, aquí solo simulamos)\n",
    "# from my_proxy_model import SimpleLSTM # Esto fallaría sin el archivo\n",
    "class SimpleLSTM:\n",
    "    def fit(self, X, y=None):\n",
    "        pass\n",
    "    def predict(self, X):\n",
    "        return np.random.rand(X.shape[0]) # Simular predicciones\n",
    "\n",
    "model = SimpleLSTM()\n",
    "\n",
    "sample_m = sampler.sample(strategy='M', n_samples=20, model_proxy=model)\n",
    "print(f\"\\nMuestra con estrategia M: {len(sample_m)} series\")\n",
    "print(sample_m)\n",
    "\n",
    "sample_q = sampler.sample(strategy='Q', n_samples=20, model_proxy=model)\n",
    "print(f\"\\nMuestra con estrategia Q: {len(sample_q)} series\")\n",
    "print(sample_q)"
   ]
  },
  {
   "cell_type": "code",
   "execution_count": 35,
   "metadata": {},
   "outputs": [
    {
     "name": "stdout",
     "output_type": "stream",
     "text": [
      "\n",
      "Muestra con estrategia N: 30 series\n",
      "['series_10715', 'series_2346', 'series_10782', 'series_6830', 'series_16356', 'series_9083', 'series_14956', 'series_27538', 'series_28940', 'series_25089', 'series_13737', 'series_9682', 'series_6642', 'series_9575', 'series_33366', 'series_19531', 'series_4223', 'series_17412', 'series_23306', 'series_12708', 'series_16505', 'series_23671', 'series_8660', 'series_14081', 'series_19000', 'series_7565', 'series_23394', 'series_4103', 'series_738', 'series_19871']\n"
     ]
    }
   ],
   "source": [
    "# Estrategia N para obtener 30 muestras\n",
    "sample_n = sampler.sample(strategy='N', n_samples=30, model_proxy=model)\n",
    "print(f\"\\nMuestra con estrategia N: {len(sample_n)} series\")\n",
    "print(sample_n)"
   ]
  }
 ],
 "metadata": {
  "kernelspec": {
   "display_name": ".venv",
   "language": "python",
   "name": "python3"
  },
  "language_info": {
   "codemirror_mode": {
    "name": "ipython",
    "version": 3
   },
   "file_extension": ".py",
   "mimetype": "text/x-python",
   "name": "python",
   "nbconvert_exporter": "python",
   "pygments_lexer": "ipython3",
   "version": "3.12.2"
  }
 },
 "nbformat": 4,
 "nbformat_minor": 2
}
