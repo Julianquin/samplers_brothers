{
 "cells": [
  {
   "cell_type": "markdown",
   "id": "acfc234a",
   "metadata": {},
   "source": [
    "# TimeSampler Demo\n",
    "\n",
    "This notebook demonstrates basic usage of the `TimeSampler` class and its sampling strategies."
   ]
  },
  {
   "cell_type": "code",
   "execution_count": null,
   "id": "5608eb83",
   "metadata": {},
   "outputs": [],
   "source": [
    "import numpy as np\n",
    "import pandas as pd\n",
    "from samplers_brothers import TimeSampler\n",
    "\n",
    "np.random.seed(0)\n",
    "\n",
    "def create_fake_df(n_series=5, length=10):\n",
    "    keys = np.repeat(np.arange(n_series), length)\n",
    "    dates = np.tile(pd.date_range('2022-01-01', periods=length, freq='D'), n_series)\n",
    "    target = np.random.randn(n_series * length)\n",
    "    clusters = np.repeat(np.arange(n_series) % 3, length)\n",
    "    return pd.DataFrame({'key': keys, 'dt_fecha': dates, 'target': target, 'cluster': clusters})\n",
    "\n",
    "df = create_fake_df(n_series=9, length=5)\n",
    "sampler = TimeSampler(df)\n"
   ]
  },
  {
   "cell_type": "code",
   "execution_count": null,
   "id": "a091264a",
   "metadata": {},
   "outputs": [],
   "source": [
    "print('Series IDs:', sampler.series_ids)\n",
    "print('Cluster labels:', sampler.cluster_labels.unique())"
   ]
  },
  {
   "cell_type": "code",
   "execution_count": null,
   "id": "41af87a7",
   "metadata": {},
   "outputs": [],
   "source": [
    "sample_k = sampler.sample('K', n_samples=6)\n",
    "print('Strategy K:', sample_k)\n",
    "\n",
    "sample_l = sampler.sample('L', n_samples=6)\n",
    "print('Strategy L:', sample_l)\n",
    "\n",
    "class DummyModel:\n",
    "    def fit(self, X):\n",
    "        pass\n",
    "    def predict(self, X):\n",
    "        return X\n",
    "\n",
    "sample_n = sampler.sample('N', n_samples=6, model_proxy=DummyModel())\n",
    "print('Strategy N:', sample_n)"
   ]
  }
 ],
 "metadata": {},
 "nbformat": 4,
 "nbformat_minor": 5
}
